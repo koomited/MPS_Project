{
 "cells": [
  {
   "cell_type": "code",
   "execution_count": 9,
   "metadata": {},
   "outputs": [
    {
     "data": {
      "text/plain": [
       "7"
      ]
     },
     "execution_count": 9,
     "metadata": {},
     "output_type": "execute_result"
    }
   ],
   "source": [
    "def tower_hanoi(num, src, helper, dest):\n",
    "    n_moves = 0\n",
    "    if num == 1:\n",
    "        # print(f\"Moving disk from {src} to {dest}\")\n",
    "        n_moves+=1\n",
    "    else:\n",
    "        n_moves += tower_hanoi(num-1, src, dest, helper)\n",
    "        n_moves += tower_hanoi(1, src,  helper, dest)\n",
    "        n_moves += tower_hanoi(num-1, dest, src, helper)\n",
    "        \n",
    "    return n_moves\n",
    "    \n",
    "tower_hanoi(3, \"A\", \"B\", \"C\")\n",
    "        "
   ]
  },
  {
   "cell_type": "code",
   "execution_count": 7,
   "metadata": {},
   "outputs": [
    {
     "name": "stdout",
     "output_type": "stream",
     "text": [
      "Move disk 1 from rod A to rod C\n"
     ]
    }
   ],
   "source": [
    "# Recursive Python function to solve tower of hanoi\n",
    "\n",
    "\n",
    "def TowerOfHanoi(n, from_rod, to_rod, aux_rod):\n",
    "    if n == 0:\n",
    "        return \n",
    "    TowerOfHanoi(n-1, from_rod, aux_rod, to_rod)\n",
    "    print(\"Move disk\", n, \"from rod\", from_rod, \"to rod\", to_rod)\n",
    "    TowerOfHanoi(n-1, aux_rod, to_rod, from_rod)\n",
    "\n",
    "\n",
    "# Driver code\n",
    "N = 1\n",
    "\n",
    "# A, C, B are the name of rods\n",
    "TowerOfHanoi(N, 'A', 'C', 'B')\n",
    "\n",
    "# Contributed By Harshit Agrawal"
   ]
  },
  {
   "cell_type": "code",
   "execution_count": null,
   "metadata": {},
   "outputs": [],
   "source": []
  }
 ],
 "metadata": {
  "kernelspec": {
   "display_name": "venv",
   "language": "python",
   "name": "python3"
  },
  "language_info": {
   "codemirror_mode": {
    "name": "ipython",
    "version": 3
   },
   "file_extension": ".py",
   "mimetype": "text/x-python",
   "name": "python",
   "nbconvert_exporter": "python",
   "pygments_lexer": "ipython3",
   "version": "3.12.3"
  }
 },
 "nbformat": 4,
 "nbformat_minor": 2
}
